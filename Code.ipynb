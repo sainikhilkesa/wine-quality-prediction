{
 "cells": [
  {
   "cell_type": "code",
   "execution_count": 1,
   "id": "0878defa",
   "metadata": {},
   "outputs": [],
   "source": [
    "#Importing libraries\n",
    "import pandas as pd\n",
    "from sklearn.model_selection import train_test_split\n",
    "from sklearn.preprocessing import StandardScaler\n",
    "from sklearn.linear_model import LogisticRegression\n",
    "from sklearn.metrics import accuracy_score\n",
    "from sklearn import preprocessing"
   ]
  },
  {
   "cell_type": "code",
   "execution_count": 2,
   "id": "9b0bf40f",
   "metadata": {},
   "outputs": [
    {
     "data": {
      "text/plain": [
       "fixed acidity           0\n",
       "volatile acidity        0\n",
       "citric acid             0\n",
       "residual sugar          0\n",
       "chlorides               0\n",
       "free sulfur dioxide     0\n",
       "total sulfur dioxide    1\n",
       "density                 0\n",
       "pH                      1\n",
       "sulphates               0\n",
       "alcohol                 0\n",
       "quality                 1\n",
       "dtype: int64"
      ]
     },
     "execution_count": 2,
     "metadata": {},
     "output_type": "execute_result"
    }
   ],
   "source": [
    "#Importing dataset and checking dataset for null values\n",
    "data=pd.read_csv(r\"C:\\Users\\kcrkr\\Desktop\\Data Science(Corizo)\\Major_Project(Wine_Quality)\\wine_dataset.csv\")\n",
    "data.isnull().sum()"
   ]
  },
  {
   "cell_type": "code",
   "execution_count": 3,
   "id": "9dbead6a",
   "metadata": {},
   "outputs": [],
   "source": [
    "#Calculating mean and replacing that to null values\n",
    "tso=data['total sulfur dioxide'].mean()\n",
    "ph=data['pH'].mean()\n",
    "qua=data['quality'].mean()\n",
    "\n",
    "qua=int(qua)\n",
    "\n",
    "data['total sulfur dioxide'].fillna(tso,inplace=True)\n",
    "data['pH'].fillna(ph,inplace=True)\n",
    "data['quality'].fillna(qua,inplace=True)"
   ]
  },
  {
   "cell_type": "code",
   "execution_count": 4,
   "id": "3267a7c7",
   "metadata": {},
   "outputs": [
    {
     "data": {
      "text/plain": [
       "fixed acidity           0\n",
       "volatile acidity        0\n",
       "citric acid             0\n",
       "residual sugar          0\n",
       "chlorides               0\n",
       "free sulfur dioxide     0\n",
       "total sulfur dioxide    0\n",
       "density                 0\n",
       "pH                      0\n",
       "sulphates               0\n",
       "alcohol                 0\n",
       "quality                 0\n",
       "dtype: int64"
      ]
     },
     "execution_count": 4,
     "metadata": {},
     "output_type": "execute_result"
    }
   ],
   "source": [
    "#Checking if values are replaced\n",
    "data.isnull().sum()"
   ]
  },
  {
   "cell_type": "code",
   "execution_count": 5,
   "id": "7ede15e6",
   "metadata": {},
   "outputs": [
    {
     "name": "stdout",
     "output_type": "stream",
     "text": [
      "      fixed acidity  volatile acidity  citric acid  residual sugar  chlorides  \\\n",
      "0               7.4             0.700         0.00             1.9      0.076   \n",
      "1               7.8             0.880         0.00             2.6      0.098   \n",
      "2               7.8             0.760         0.04             2.3      0.092   \n",
      "3              11.2             0.280         0.56             1.9      0.075   \n",
      "4               7.4             0.700         0.00             1.9      0.076   \n",
      "...             ...               ...          ...             ...        ...   \n",
      "1594            6.2             0.600         0.08             2.0      0.090   \n",
      "1595            5.9             0.550         0.10             2.2      0.062   \n",
      "1596            6.3             0.510         0.13             2.3      0.076   \n",
      "1597            5.9             0.645         0.12             2.0      0.075   \n",
      "1598            6.0             0.310         0.47             3.6      0.067   \n",
      "\n",
      "      free sulfur dioxide  total sulfur dioxide  density    pH  sulphates  \\\n",
      "0                    11.0                  34.0  0.99780  3.51       0.56   \n",
      "1                    25.0                  67.0  0.99680  3.20       0.68   \n",
      "2                    15.0                  54.0  0.99700  3.26       0.65   \n",
      "3                    17.0                  60.0  0.99800  3.16       0.58   \n",
      "4                    11.0                  34.0  0.99780  3.51       0.56   \n",
      "...                   ...                   ...      ...   ...        ...   \n",
      "1594                 32.0                  44.0  0.99490  3.52       0.58   \n",
      "1595                 39.0                  51.0  0.99512  3.52       0.76   \n",
      "1596                 29.0                  40.0  0.99574  3.52       0.75   \n",
      "1597                 32.0                  44.0  0.99547  3.52       0.71   \n",
      "1598                 18.0                  42.0  0.99549  3.52       0.66   \n",
      "\n",
      "      alcohol  \n",
      "0         9.4  \n",
      "1         9.8  \n",
      "2         9.8  \n",
      "3         9.8  \n",
      "4         9.4  \n",
      "...       ...  \n",
      "1594     10.5  \n",
      "1595     11.2  \n",
      "1596     11.0  \n",
      "1597     10.2  \n",
      "1598     11.0  \n",
      "\n",
      "[1599 rows x 11 columns]\n",
      "0       5.0\n",
      "1       5.0\n",
      "2       5.0\n",
      "3       6.0\n",
      "4       5.0\n",
      "       ... \n",
      "1594    5.0\n",
      "1595    6.0\n",
      "1596    6.0\n",
      "1597    5.0\n",
      "1598    6.0\n",
      "Name: quality, Length: 1599, dtype: float64\n"
     ]
    }
   ],
   "source": [
    "#Separating inputs and outputs i.e. dependent and independent columns\n",
    "inp=data.drop(['quality'],axis=1)\n",
    "out=data['quality']\n",
    "print(inp)\n",
    "print(out)"
   ]
  },
  {
   "cell_type": "code",
   "execution_count": 6,
   "id": "3fb9b9d1",
   "metadata": {},
   "outputs": [],
   "source": [
    "#Spliting dataset and scaling X values for better accuracy\n",
    "x_train,x_test,y_train,y_test=train_test_split(inp,out,train_size=0.8,random_state=5)\n",
    "\n",
    "sc=StandardScaler()\n",
    "x_train=sc.fit_transform(x_train)\n",
    "x_test=sc.transform(x_test)"
   ]
  },
  {
   "cell_type": "code",
   "execution_count": 10,
   "id": "6acbae2b",
   "metadata": {},
   "outputs": [
    {
     "name": "stdout",
     "output_type": "stream",
     "text": [
      "Accuracy:  62.5 %\n"
     ]
    },
    {
     "name": "stderr",
     "output_type": "stream",
     "text": [
      "C:\\Users\\kcrkr\\anaconda3\\Lib\\site-packages\\sklearn\\linear_model\\_logistic.py:460: ConvergenceWarning: lbfgs failed to converge (status=1):\n",
      "STOP: TOTAL NO. of ITERATIONS REACHED LIMIT.\n",
      "\n",
      "Increase the number of iterations (max_iter) or scale the data as shown in:\n",
      "    https://scikit-learn.org/stable/modules/preprocessing.html\n",
      "Please also refer to the documentation for alternative solver options:\n",
      "    https://scikit-learn.org/stable/modules/linear_model.html#logistic-regression\n",
      "  n_iter_i = _check_optimize_result(\n"
     ]
    }
   ],
   "source": [
    "#Selecting algorithm and creating model, then predicting on test values and printing accuracy\n",
    "model=LogisticRegression()\n",
    "model.fit(x_train,y_train)\n",
    "y_pred=model.predict(x_test)\n",
    "\n",
    "\n",
    "print(\"Accuracy: \",accuracy_score(y_test,y_pred)*100,\"%\")"
   ]
  },
  {
   "cell_type": "code",
   "execution_count": 11,
   "id": "13cc4b8c",
   "metadata": {},
   "outputs": [
    {
     "name": "stdout",
     "output_type": "stream",
     "text": [
      "Enter the value of fixed acidity: 5\n",
      "Enter the value of volatile acidity: 4\n",
      "Enter the value of citric acidity: 6548\n",
      "Enter the value of residual sugar: 4\n",
      "Enter the value of chlorides: 64\n",
      "Enter the value of free sulfur dioxide: 868\n",
      "Enter the value of total sulfur dioxide: 68\n",
      "Enter the value of density: 48\n",
      "Enter the value of pH: 84\n",
      "Enter the value of sulphates: 89\n",
      "Enter the value of alcohol: 56\n",
      "Quality of wine is:  8.0\n"
     ]
    },
    {
     "name": "stderr",
     "output_type": "stream",
     "text": [
      "C:\\Users\\kcrkr\\AppData\\Local\\Temp\\ipykernel_14952\\2945123301.py:16: DeprecationWarning: Conversion of an array with ndim > 0 to a scalar is deprecated, and will error in future. Ensure you extract a single element from your array before performing this operation. (Deprecated NumPy 1.25.)\n",
      "  print(\"Quality of wine is: \",float(res))\n"
     ]
    }
   ],
   "source": [
    "#Reading inputs from user to predict the quality of wine\n",
    "\n",
    "fa=float(input(\"Enter the value of fixed acidity: \"))\n",
    "va=float(input(\"Enter the value of volatile acidity: \"))\n",
    "ca=float(input(\"Enter the value of citric acidity: \"))\n",
    "rs=float(input(\"Enter the value of residual sugar: \"))\n",
    "ch=float(input(\"Enter the value of chlorides: \"))\n",
    "fso=float(input(\"Enter the value of free sulfur dioxide: \"))\n",
    "tso=float(input(\"Enter the value of total sulfur dioxide: \"))\n",
    "dn=float(input(\"Enter the value of density: \"))\n",
    "ph=float(input(\"Enter the value of pH: \"))\n",
    "sl=float(input(\"Enter the value of sulphates: \"))\n",
    "al=float(input(\"Enter the value of alcohol: \"))\n",
    "\n",
    "res=model.predict([[fa,va,ca,rs,ch,fso,tso,dn,ph,sl,al]])\n",
    "print(\"Quality of wine is: \",float(res))"
   ]
  },
  {
   "cell_type": "code",
   "execution_count": null,
   "id": "e0425853",
   "metadata": {},
   "outputs": [],
   "source": []
  }
 ],
 "metadata": {
  "kernelspec": {
   "display_name": "Python 3 (ipykernel)",
   "language": "python",
   "name": "python3"
  },
  "language_info": {
   "codemirror_mode": {
    "name": "ipython",
    "version": 3
   },
   "file_extension": ".py",
   "mimetype": "text/x-python",
   "name": "python",
   "nbconvert_exporter": "python",
   "pygments_lexer": "ipython3",
   "version": "3.11.4"
  }
 },
 "nbformat": 4,
 "nbformat_minor": 5
}
